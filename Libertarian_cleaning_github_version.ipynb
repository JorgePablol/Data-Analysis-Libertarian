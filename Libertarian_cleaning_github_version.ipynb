{
  "nbformat": 4,
  "nbformat_minor": 0,
  "metadata": {
    "colab": {
      "name": "Libertarian cleaning github version.ipynb",
      "provenance": [],
      "collapsed_sections": []
    },
    "kernelspec": {
      "name": "python3",
      "display_name": "Python 3"
    }
  },
  "cells": [
    {
      "cell_type": "code",
      "metadata": {
        "id": "GbVJ2cozoRWW"
      },
      "source": [
        "import pandas as pd\n",
        "import numpy as np\n",
        "import matplotlib.pyplot as plt\n",
        "import datetime\n",
        "#Importing the relevant libraries for the project"
      ],
      "execution_count": null,
      "outputs": []
    },
    {
      "cell_type": "code",
      "metadata": {
        "id": "eg2pSY7guffm"
      },
      "source": [
        "def path_finder(date):\n",
        "    #this function will find the day of the week according to the day year and month\n",
        "    #the purpose is to be able to find what day has more activity.\n",
        "    day_name = ['Lunes','Martes','Miercoles','Jueves','Viernes','Sabado','Domingo']\n",
        "    date = str(date)\n",
        "    day = datetime.datetime.strptime(date, '%Y-%m-%d').weekday()\n",
        "    day_found = day_name[day]\n",
        "    return day_found\n",
        "\n",
        "def twitter_cleaner(mes):\n",
        "    #this function will clean completely the dataset given by twitter when you download by tweet.\n",
        "    dataset = pd.read_csv('{}.csv'.format(mes)) #Reading the file\n",
        "    mes = str(mes)\n",
        "    dataset = pd.DataFrame(dataset) #Making sure the dataset is on a pandas DataFrame object type\n",
        "    dataset['hora']=pd.to_datetime(dataset['hora']) # Changing feature content type\n",
        "    dataset.drop(['ID del Tweet',\n",
        " 'Enlace permanente de Tweet', 'impresiones promocionado',\n",
        " 'interacciones promocionado',\n",
        " 'tasa de interacción promocionado',\n",
        " 'retweets promocionado',\n",
        " 'respuestas promocionado',\n",
        " 'me gusta promocionado',\n",
        " 'clics de perfil de usuario promocionado',\n",
        " 'clics en URL promocionado',\n",
        " 'clics de etiquetas promocionado',\n",
        " 'ampliaciones de detalles promocionado',\n",
        " 'clics en enlaces permanentes promocionado',\n",
        " 'Se abre la aplicación promocionado',\n",
        " 'descargas de app promocionado',\n",
        " 'seguimientos promocionado',\n",
        " 'enviar Tweet por correo electrónico promocionado',\n",
        " 'marcar teléfono promocionado',\n",
        " 'visualizaciones multimedia promocionado',\n",
        " 'interacciones con el contenido multimedia promocionado',\n",
        " 'Se abre la aplicación', 'descargas de app',\n",
        " 'enviar Tweet por correo electrónico', 'marcar teléfono', 'seguimientos', 'clics en enlaces permanentes'], axis=1, inplace=True) # Dropping not relevant columns\n",
        "\n",
        "    dataset.columns = ['Texto del Tweet', 'Hora', 'impresiones', 'interacciones',\n",
        "       'tasa de interacción en %', 'retweets', 'respuestas', 'me gusta',\n",
        "       'clics de perfil de usuario', 'clics en URL', 'clics de etiquetas',\n",
        "       'ampliaciones de detalles', 'visualizaciones multimedia',\n",
        "       'interacciones con el contenido multimedia']#changing the name of some columns\n",
        "    dataset['tasa de interacción en %'] =  dataset['tasa de interacción en %'].apply(lambda x: x*100) #Engineering the columns so we can see it on percentage\n",
        "    dataset['tasa de interacción en %'] = np.round(dataset['tasa de interacción en %'],2) #A simple rounding, too many decimals.\n",
        "\n",
        "    list_to_integer = [\n",
        "              'impresiones', 'interacciones','retweets', 'respuestas', 'me gusta',\n",
        "       'clics de perfil de usuario', 'clics en URL', 'clics de etiquetas',\n",
        "       'ampliaciones de detalles'] #Im too lazy to change those columns to integer one by one\n",
        "    for name in list_to_integer:\n",
        "        dataset[name] = np.int64(dataset[name])#changing the column to integer\n",
        "\n",
        "    dataset['Fecha'] = dataset['Hora'].apply(str).copy()\n",
        "    \n",
        "    for i in range(0, int(dataset['Fecha'].shape[0])):\n",
        "        dataset['Fecha'][i] = dataset['Fecha'][i][:10] #Fechas means date, and the actual kind of date I want is only with Year, month and day, not with those weird numbers it had.\n",
        "\n",
        "    dataset['Dia'] = dataset['Fecha'].copy()\n",
        "    dataset['Dia'] = dataset['Dia'].apply(lambda x: path_finder(x))#Implementing the path finder function previously described\n",
        "\n",
        "    dataset['Fecha'] =pd.to_datetime(dataset['Fecha'])\n",
        "    \n",
        "    #dataset['Fecha'] = dataset['Fecha'].apply(pd.to_datetime)\n",
        "    #dataset['hora'] = pd.to_datetime(dataset['hora'], format='%H%M')\n",
        "    dataset['Hora'] = dataset['Hora'].apply(str) #Changing hora feature to string it was datetime\n",
        "    e = list(dataset['Hora'].values)\n",
        "    for i in range(0, len(e)):#This for will engineer the hora feature so the values will be two integers like 14, 14 hours of course.\n",
        "        e[i] = e[i][11:13] \n",
        "    dataset['Hora'] = e\n",
        "    dataset['Hora'] = np.int64(dataset['Hora'])\n",
        "    #dataset['Hora'] = pd.Timestamp(dataset['Hora'], unit='h')\n",
        "    dataset = dataset[['Texto del Tweet',\n",
        "        'Fecha',\n",
        "        'Dia',\n",
        "        'Hora',\n",
        "        'impresiones',\n",
        "        'interacciones',\n",
        "        'tasa de interacción en %',\n",
        "        'retweets',\n",
        "        'respuestas',\n",
        "        'me gusta',\n",
        "        'clics de perfil de usuario',\n",
        "        'clics en URL',\n",
        "        'clics de etiquetas',\n",
        "        'ampliaciones de detalles',\n",
        "        'visualizaciones multimedia',\n",
        "        'interacciones con el contenido multimedia']] #making sure the features I want will be in the final result file\n",
        "     \n",
        "    dataset.to_csv('{}_clean.csv'.format(mes), encoding='utf-8', index=False) #Saving the engineering.\n",
        "    dataset['impresiones'].describe().to_csv('{}_described_clean.csv'.format(mes), encoding='utf-8', index=True) #A quick statistical description for the numeric values and saving it.\n",
        "\n",
        "def fb_cleaner_scope(name): #Short function to engineer the date column for facebook content data\n",
        "    df = pd.read_csv('{}.csv'.format(name), encoding='latin-1')\n",
        "    df['Fecha'] = df['Fecha'].apply(lambda x: x[0:10])\n",
        "    df.to_csv('{}_clean.csv'.format(name), encoding='utf-8', index=False)\n",
        "\n",
        "\n",
        "def fb_cleaner_content(name): #Short function to drop not relevant columns and engineering the hour columns, and saving it immediately\n",
        "    df = pd.read_csv('{}.csv'.format(name), encoding='latin-1')\n",
        "    df = df.drop(columns=['Resultados','Costo por resultado'])\n",
        "    df['Hora de publicación'] = df['Hora de publicación'].apply(lambda x: x[0:10])\n",
        "    df.to_csv('{}_clean.csv'.format(name), encoding='utf-8', index=False)\n",
        "    df['Alcance'].describe().to_csv('{}_described.csv'.format(name))\n"
      ],
      "execution_count": null,
      "outputs": []
    },
    {
      "cell_type": "code",
      "metadata": {
        "colab": {
          "base_uri": "https://localhost:8080/"
        },
        "id": "UEPjwWQRp5LW",
        "outputId": "febdae47-bbfd-4497-afb6-449b890e4aef"
      },
      "source": [
        "fb_cleaner_content('Contenido feb final fb')\n",
        "twitter_cleaner('twitter feb')\n",
        "fb_cleaner_scope('Tendencias Feb fb')"
      ],
      "execution_count": null,
      "outputs": [
        {
          "output_type": "stream",
          "text": [
            "/usr/local/lib/python3.7/dist-packages/ipykernel_launcher.py:53: SettingWithCopyWarning: \n",
            "A value is trying to be set on a copy of a slice from a DataFrame\n",
            "\n",
            "See the caveats in the documentation: https://pandas.pydata.org/pandas-docs/stable/user_guide/indexing.html#returning-a-view-versus-a-copy\n"
          ],
          "name": "stderr"
        }
      ]
    }
  ]
}
